{
 "cells": [
  {
   "cell_type": "code",
   "execution_count": 1,
   "id": "9ef982cb-e836-472f-8652-c93f0cfb2038",
   "metadata": {},
   "outputs": [],
   "source": [
    "import pandas\n",
    "\n",
    "pandas.options.display.float_format = '{:.2f}'.format\n"
   ]
  },
  {
   "cell_type": "code",
   "execution_count": 2,
   "id": "5add80ea",
   "metadata": {},
   "outputs": [],
   "source": [
    "def reduce_csv(infile, outfile):\n",
    "    filedata = pandas.read_csv(infile, engine='c')\n",
    "    print(len(filedata))\n",
    "    filedata = filedata[filedata['OnMode'] == 'Rail']\n",
    "    filedata = filedata[['OnDate', 'OnLocation', 'OffDate', 'OffLocation']]\n",
    "    filedata.to_csv(outfile, index=False)\n",
    "    return filedata\n"
   ]
  },
  {
   "cell_type": "code",
   "execution_count": 4,
   "id": "f895c28b",
   "metadata": {},
   "outputs": [
    {
     "name": "stderr",
     "output_type": "stream",
     "text": [
      "C:\\Users\\YaBoiPurple\\AppData\\Local\\Temp\\ipykernel_17360\\3983721130.py:2: DtypeWarning: Columns (10,15) have mixed types. Specify dtype option on import or set low_memory=False.\n",
      "  filedata = pandas.read_csv(infile, engine='c')\n"
     ]
    },
    {
     "name": "stdout",
     "output_type": "stream",
     "text": [
      "8698774\n"
     ]
    },
    {
     "data": {
      "text/html": [
       "<div>\n",
       "<style scoped>\n",
       "    .dataframe tbody tr th:only-of-type {\n",
       "        vertical-align: middle;\n",
       "    }\n",
       "\n",
       "    .dataframe tbody tr th {\n",
       "        vertical-align: top;\n",
       "    }\n",
       "\n",
       "    .dataframe thead th {\n",
       "        text-align: right;\n",
       "    }\n",
       "</style>\n",
       "<table border=\"1\" class=\"dataframe\">\n",
       "  <thead>\n",
       "    <tr style=\"text-align: right;\">\n",
       "      <th></th>\n",
       "      <th>OnDate</th>\n",
       "      <th>OnLocation</th>\n",
       "      <th>OffDate</th>\n",
       "      <th>OffLocation</th>\n",
       "    </tr>\n",
       "  </thead>\n",
       "  <tbody>\n",
       "    <tr>\n",
       "      <th>79</th>\n",
       "      <td>20230919091635</td>\n",
       "      <td>2796</td>\n",
       "      <td>20230919100458</td>\n",
       "      <td>2777</td>\n",
       "    </tr>\n",
       "    <tr>\n",
       "      <th>80</th>\n",
       "      <td>20230919114715</td>\n",
       "      <td>2777</td>\n",
       "      <td>20230919122451</td>\n",
       "      <td>2796</td>\n",
       "    </tr>\n",
       "    <tr>\n",
       "      <th>84</th>\n",
       "      <td>20230919194453</td>\n",
       "      <td>5011</td>\n",
       "      <td>20230919200455</td>\n",
       "      <td>2776</td>\n",
       "    </tr>\n",
       "    <tr>\n",
       "      <th>85</th>\n",
       "      <td>20230919203811</td>\n",
       "      <td>2776</td>\n",
       "      <td>20230919205836</td>\n",
       "      <td>3045</td>\n",
       "    </tr>\n",
       "    <tr>\n",
       "      <th>87</th>\n",
       "      <td>20230911070643</td>\n",
       "      <td>2603</td>\n",
       "      <td>20230911074258</td>\n",
       "      <td>2776</td>\n",
       "    </tr>\n",
       "    <tr>\n",
       "      <th>...</th>\n",
       "      <td>...</td>\n",
       "      <td>...</td>\n",
       "      <td>...</td>\n",
       "      <td>...</td>\n",
       "    </tr>\n",
       "    <tr>\n",
       "      <th>8698764</th>\n",
       "      <td>20230929140608</td>\n",
       "      <td>2776</td>\n",
       "      <td>20230929151229</td>\n",
       "      <td>3090</td>\n",
       "    </tr>\n",
       "    <tr>\n",
       "      <th>8698765</th>\n",
       "      <td>20230929134314</td>\n",
       "      <td>2776</td>\n",
       "      <td>20230929141913</td>\n",
       "      <td>2773</td>\n",
       "    </tr>\n",
       "    <tr>\n",
       "      <th>8698766</th>\n",
       "      <td>20230929134315</td>\n",
       "      <td>2776</td>\n",
       "      <td>20230929141914</td>\n",
       "      <td>2773</td>\n",
       "    </tr>\n",
       "    <tr>\n",
       "      <th>8698767</th>\n",
       "      <td>20230929114933</td>\n",
       "      <td>2776</td>\n",
       "      <td>20230929125033</td>\n",
       "      <td>3081</td>\n",
       "    </tr>\n",
       "    <tr>\n",
       "      <th>8698768</th>\n",
       "      <td>20230929115924</td>\n",
       "      <td>2776</td>\n",
       "      <td>20230929121619</td>\n",
       "      <td>3018</td>\n",
       "    </tr>\n",
       "  </tbody>\n",
       "</table>\n",
       "<p>3853463 rows × 4 columns</p>\n",
       "</div>"
      ],
      "text/plain": [
       "                 OnDate OnLocation         OffDate OffLocation\n",
       "79       20230919091635       2796  20230919100458        2777\n",
       "80       20230919114715       2777  20230919122451        2796\n",
       "84       20230919194453       5011  20230919200455        2776\n",
       "85       20230919203811       2776  20230919205836        3045\n",
       "87       20230911070643       2603  20230911074258        2776\n",
       "...                 ...        ...             ...         ...\n",
       "8698764  20230929140608       2776  20230929151229        3090\n",
       "8698765  20230929134314       2776  20230929141913        2773\n",
       "8698766  20230929134315       2776  20230929141914        2773\n",
       "8698767  20230929114933       2776  20230929125033        3081\n",
       "8698768  20230929115924       2776  20230929121619        3018\n",
       "\n",
       "[3853463 rows x 4 columns]"
      ]
     },
     "execution_count": 4,
     "metadata": {},
     "output_type": "execute_result"
    }
   ],
   "source": [
    "datadir = \"D:/Uni/Research/Python/data/\"\n",
    "\n",
    "name = \"monthly_sep2023\"\n",
    "filename = name + \".csv\"\n",
    "outfilename = name + \"_short.csv\"\n",
    "\n",
    "reduce_csv(datadir+filename, datadir+outfilename)"
   ]
  }
 ],
 "metadata": {
  "kernelspec": {
   "display_name": "Python 3 (ipykernel)",
   "language": "python",
   "name": "python3"
  },
  "language_info": {
   "codemirror_mode": {
    "name": "ipython",
    "version": 3
   },
   "file_extension": ".py",
   "mimetype": "text/x-python",
   "name": "python",
   "nbconvert_exporter": "python",
   "pygments_lexer": "ipython3",
   "version": "3.10.6"
  }
 },
 "nbformat": 4,
 "nbformat_minor": 5
}
